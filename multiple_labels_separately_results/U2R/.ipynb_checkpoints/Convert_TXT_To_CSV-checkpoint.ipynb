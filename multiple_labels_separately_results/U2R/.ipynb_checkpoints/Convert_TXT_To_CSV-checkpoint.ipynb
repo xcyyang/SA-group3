{
 "cells": [
  {
   "cell_type": "code",
   "execution_count": 1,
   "metadata": {},
   "outputs": [],
   "source": [
    "import csv"
   ]
  },
  {
   "cell_type": "code",
   "execution_count": 2,
   "metadata": {},
   "outputs": [],
   "source": [
    "label = 'U2R'"
   ]
  },
  {
   "cell_type": "code",
   "execution_count": 3,
   "metadata": {},
   "outputs": [
    {
     "name": "stdout",
     "output_type": "stream",
     "text": [
      "U2R_DT.txt\n"
     ]
    }
   ],
   "source": [
    "# Using readlines()\n",
    "file1 = open(label+'_DT.txt', 'r')\n",
    "Lines = file1.readlines()\n",
    "\n",
    "print(file1.name)\n",
    "csv_file = open(file1.name.split(\".\")[0]+\".csv\",'w')\n",
    "\n",
    "csv_writer = csv.writer(csv_file, delimiter=',', quotechar='\"', quoting=csv.QUOTE_MINIMAL)\n",
    "                        \n",
    "csv_count = 0\n",
    "row = []\n",
    "                        \n",
    "csv_writer.writerow(['preprocess', 'feature_selection', 'percentage_selection',\n",
    "                     'depth','f1_scores(mean)','accuracy(mean)',\n",
    "                    'precision(mean)','recall(mean)','roc_auc(mean)'])\n",
    "# Strips the newline character\n",
    "for Line in Lines:\n",
    "    line = Line.strip()\n",
    "    if(line.find('-----') > -1):\n",
    "        continue\n",
    "    row.append(line.split(\": \")[1])\n",
    "    csv_count+=1\n",
    "    if(csv_count == 9):\n",
    "        csv_count = 0\n",
    "        csv_writer.writerow(row)\n",
    "        row = []\n",
    "file1.close()"
   ]
  },
  {
   "cell_type": "code",
   "execution_count": 4,
   "metadata": {},
   "outputs": [
    {
     "name": "stdout",
     "output_type": "stream",
     "text": [
      "U2R_LG.txt\n"
     ]
    }
   ],
   "source": [
    "# Using readlines()\n",
    "file1 = open(label+'_LG.txt', 'r')\n",
    "Lines = file1.readlines()\n",
    "\n",
    "print(file1.name)\n",
    "csv_file = open(file1.name.split(\".\")[0]+\".csv\",'w')\n",
    "\n",
    "csv_writer = csv.writer(csv_file, delimiter=',', quotechar='\"', quoting=csv.QUOTE_MINIMAL)\n",
    "                        \n",
    "csv_count = 0\n",
    "row = []\n",
    "                        \n",
    "csv_writer.writerow(['preprocess', 'feature_selection', 'percentage_selection',\n",
    "                     'solver','f1_scores(mean)','accuracy(mean)',\n",
    "                    'precision(mean)','recall(mean)','roc_auc(mean)'])\n",
    "# Strips the newline character\n",
    "for Line in Lines:\n",
    "    line = Line.strip()\n",
    "    if(line.find('----') > -1):\n",
    "        continue\n",
    "    row.append(line.split(\": \")[1])\n",
    "    csv_count+=1\n",
    "    if(csv_count == 9):\n",
    "        csv_count = 0\n",
    "        csv_writer.writerow(row)\n",
    "        row = []"
   ]
  },
  {
   "cell_type": "code",
   "execution_count": 5,
   "metadata": {},
   "outputs": [
    {
     "name": "stdout",
     "output_type": "stream",
     "text": [
      "U2R_SVM.txt\n"
     ]
    }
   ],
   "source": [
    "# Using readlines()\n",
    "file1 = open(label+'_SVM.txt', 'r')\n",
    "Lines = file1.readlines()\n",
    "\n",
    "print(file1.name)\n",
    "csv_file = open(file1.name.split(\".\")[0]+\".csv\",'w')\n",
    "\n",
    "csv_writer = csv.writer(csv_file, delimiter=',', quotechar='\"', quoting=csv.QUOTE_MINIMAL)\n",
    "                        \n",
    "csv_count = 0\n",
    "row = []\n",
    "                        \n",
    "csv_writer.writerow(['preprocess', 'feature_selection', 'percentage_selection',\n",
    "                     'C_selection','kernel_selection','f1_scores(mean)','accuracy(mean)',\n",
    "                    'precision(mean)','recall(mean)','roc_auc(mean)'])\n",
    "# Strips the newline character\n",
    "for Line in Lines:\n",
    "    line = Line.strip()\n",
    "    if(line.find('----') > -1):\n",
    "        continue\n",
    "    row.append(line.split(\": \")[1])\n",
    "    csv_count+=1\n",
    "    if(csv_count == 10):\n",
    "        csv_count = 0\n",
    "        csv_writer.writerow(row)\n",
    "        row = []"
   ]
  },
  {
   "cell_type": "code",
   "execution_count": null,
   "metadata": {},
   "outputs": [],
   "source": []
  }
 ],
 "metadata": {
  "kernelspec": {
   "display_name": "Python 3",
   "language": "python",
   "name": "python3"
  },
  "language_info": {
   "codemirror_mode": {
    "name": "ipython",
    "version": 3
   },
   "file_extension": ".py",
   "mimetype": "text/x-python",
   "name": "python",
   "nbconvert_exporter": "python",
   "pygments_lexer": "ipython3",
   "version": "3.8.5"
  }
 },
 "nbformat": 4,
 "nbformat_minor": 4
}
